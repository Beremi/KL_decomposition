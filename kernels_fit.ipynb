{
 "cells": [
  {
   "cell_type": "code",
   "execution_count": null,
   "id": "4b6fab1f",
   "metadata": {},
   "outputs": [],
   "source": [
    "from kl_decomposition import kernel_fit, orthopoly\n",
    "import numpy as np\n",
    "import matplotlib.pyplot as plt"
   ]
  },
  {
   "cell_type": "markdown",
   "id": "252db417",
   "metadata": {},
   "source": [
    "# Exponential kernel on $(0,1)$"
   ]
  },
  {
   "cell_type": "code",
   "execution_count": null,
   "id": "dd7ceacb",
   "metadata": {},
   "outputs": [],
   "source": [
    "def target_function(x): return np.exp(-x)\n",
    "x, w = orthopoly.gauss_legendre_rule_multilevel(0.0, 1.0, 100, L=5, ratio=0.2)\n",
    "target_exp = target_function(x)\n",
    "obj, grad, hess = kernel_fit.build_se_obj_grad_hess(x, w, target_exp)\n",
    "exp_all_a, exp_all_b, exp_all_vals = kernel_fit.square_exp_approximations_newton(\n",
    "    max_terms=20, precision=1e-6,\n",
    "    x=x, w=w, target=target_exp,\n",
    "    obj=obj, grad=grad, hess=hess, verbose=True)"
   ]
  },
  {
   "cell_type": "markdown",
   "id": "6e6d1d49",
   "metadata": {},
   "source": [
    "# Matérn covariance function with $\\nu=5/2$ and $\\sigma^2=1$ on $(0,1)$\n"
   ]
  },
  {
   "cell_type": "code",
   "execution_count": null,
   "id": "f893eee1",
   "metadata": {},
   "outputs": [],
   "source": [
    "def target_function(x):\n",
    "    sqrt5_r = np.sqrt(5) * x\n",
    "    return (1 + sqrt5_r + (5 / 3) * x**2) * np.exp(-sqrt5_r)\n",
    "\n",
    "\n",
    "x, w = orthopoly.gauss_legendre_rule_multilevel(0.0, 1.0, 100, L=5, ratio=0.2)\n",
    "target_matern = target_function(x)\n",
    "obj, grad, hess = kernel_fit.build_se_obj_grad_hess(x, w, target_matern)\n",
    "matern_all_a, matern_all_b, matern_all_vals = kernel_fit.square_exp_approximations_newton(\n",
    "    max_terms=20, precision=1e-6,\n",
    "    x=x, w=w, target=target_matern,\n",
    "    obj=obj, grad=grad, hess=hess, verbose=True)"
   ]
  },
  {
   "cell_type": "markdown",
   "id": "0a8581ac",
   "metadata": {},
   "source": [
    "# Powered-exponential covariance function with γ=0.6 and σ²=1 on $(0,1)$"
   ]
  },
  {
   "cell_type": "code",
   "execution_count": null,
   "id": "d6c1071f",
   "metadata": {},
   "outputs": [],
   "source": [
    "def target_function(x):\n",
    "    return np.exp(- x ** 0.6)\n",
    "\n",
    "\n",
    "x, w = orthopoly.gauss_legendre_rule_multilevel(0.0, 1.0, 100, L=5, ratio=0.2)\n",
    "target_powexp06 = target_function(x)\n",
    "\n",
    "obj, grad, hess = kernel_fit.build_se_obj_grad_hess(x, w, target_powexp06)\n",
    "\n",
    "powexp06_all_a, powexp06_all_b, powexp06_all_vals = kernel_fit.square_exp_approximations_newton(\n",
    "    max_terms=20, precision=1e-6,\n",
    "    x=x, w=w, target=target_powexp06,\n",
    "    obj=obj, grad=grad, hess=hess, verbose=True)"
   ]
  },
  {
   "cell_type": "markdown",
   "id": "707c351c",
   "metadata": {},
   "source": [
    "# Rational-quadratic covariance function with α=1 and σ²=1 on $(0,1)$"
   ]
  },
  {
   "cell_type": "code",
   "execution_count": null,
   "id": "6edab268",
   "metadata": {},
   "outputs": [],
   "source": [
    "def target_function(x):\n",
    "    return (1 + (x**2) / 2) ** -1\n",
    "\n",
    "\n",
    "x, w = orthopoly.gauss_legendre_rule_multilevel(0.0, 1.0, 100, L=5, ratio=0.2)\n",
    "target_rq = target_function(x)\n",
    "\n",
    "obj, grad, hess = kernel_fit.build_se_obj_grad_hess(x, w, target_rq)\n",
    "\n",
    "rq_all_a, rq_all_b, rq_all_vals = kernel_fit.square_exp_approximations_newton(\n",
    "    max_terms=20, precision=1e-6,\n",
    "    x=x, w=w, target=target_rq,\n",
    "    obj=obj, grad=grad, hess=hess, verbose=True)"
   ]
  },
  {
   "cell_type": "markdown",
   "id": "bfefde48",
   "metadata": {},
   "source": [
    "# Generalised Cauchy covariance function with γ=1, β=1 and σ²=1 on $(0,1)$"
   ]
  },
  {
   "cell_type": "code",
   "execution_count": null,
   "id": "49d48b39",
   "metadata": {},
   "outputs": [],
   "source": [
    "def target_function(x):\n",
    "    return (1 + x) ** -1\n",
    "\n",
    "\n",
    "x, w = orthopoly.gauss_legendre_rule_multilevel(0.0, 1.0, 100, L=5, ratio=0.2)\n",
    "target_cauchy = target_function(x)\n",
    "\n",
    "obj, grad, hess = kernel_fit.build_se_obj_grad_hess(x, w, target_cauchy)\n",
    "\n",
    "cauchy_all_a, cauchy_all_b, cauchy_all_vals = kernel_fit.square_exp_approximations_newton(\n",
    "    max_terms=20, precision=1e-6,\n",
    "    x=x, w=w, target=target_cauchy,\n",
    "    obj=obj, grad=grad, hess=hess, verbose=True)"
   ]
  },
  {
   "cell_type": "markdown",
   "id": "0464b282",
   "metadata": {},
   "source": [
    "# Visualize the covariance functions"
   ]
  },
  {
   "cell_type": "code",
   "execution_count": null,
   "id": "403c3c63",
   "metadata": {},
   "outputs": [],
   "source": [
    "# === PLOT SETTINGS ===========================================================\n",
    "import matplotlib.pyplot as plt\n",
    "import numpy as np\n",
    "\n",
    "plt.rcParams.update({\n",
    "    \"text.usetex\": True,\n",
    "    \"font.family\": \"serif\",\n",
    "    \"font.size\": 11,\n",
    "    \"axes.labelsize\": 11,\n",
    "    \"legend.fontsize\": 11,\n",
    "    \"xtick.labelsize\": 11,\n",
    "    \"ytick.labelsize\": 11,\n",
    "})\n",
    "\n",
    "# === COLLECT DATA ============================================================\n",
    "# Ensure x is sorted so curves are monotone in r\n",
    "r_sorted_idx = np.argsort(x)\n",
    "r = x[r_sorted_idx]\n",
    "\n",
    "cov_dict = {\n",
    "    r\"$e^{-r}$\": target_exp[r_sorted_idx],\n",
    "    r\"Matérn $\\nu=\\frac{5}{2}$\": target_matern[r_sorted_idx],\n",
    "    r\"$\\exp bigl(-r^{0.6} bigr)$\": target_powexp06[r_sorted_idx],\n",
    "    r\"RQ $(\\alpha=1)$\": target_rq[r_sorted_idx],\n",
    "    r\"Cauchy $(\\gamma=\\beta=1)$\": target_cauchy[r_sorted_idx],\n",
    "}\n",
    "\n",
    "conv_dict = {\n",
    "    r\"$e^{-r}$\": exp_all_vals,\n",
    "    r\"Matérn $\\nu=\\frac{5}{2}$\": matern_all_vals,\n",
    "    r\"$\\exp bigl(-r^{0.6} bigr)$\": powexp06_all_vals,\n",
    "    r\"RQ $(\\alpha=1)$\": rq_all_vals,\n",
    "    r\"Cauchy $(\\gamma=\\beta=1)$\": cauchy_all_vals,\n",
    "}\n",
    "\n",
    "# === FIGURE 1: COVARIANCE CURVES ============================================\n",
    "fig1, ax1 = plt.subplots(figsize=(3.4, 2.8), dpi=300)   # ~85 mm column width\n",
    "for label, C in cov_dict.items():\n",
    "    ax1.plot(r, C, lw=1.2, label=label)\n",
    "\n",
    "ax1.set_xlabel(r\"$r$\")\n",
    "ax1.set_ylabel(r\"$C(r)$\")\n",
    "ax1.set_xlim(0, 1)\n",
    "ax1.set_ylim(0, 1.02)\n",
    "ax1.grid(alpha=0.3)\n",
    "ax1.legend(frameon=False, loc=\"upper right\", handlelength=1.3)\n",
    "\n",
    "plt.show()"
   ]
  },
  {
   "cell_type": "code",
   "execution_count": null,
   "id": "e805c448",
   "metadata": {},
   "outputs": [],
   "source": [
    "\n",
    "fig1.tight_layout()\n",
    "fig1.savefig(\"covariance_curves.pdf\", bbox_inches=\"tight\")\n",
    "\n",
    "# === FIGURE 2: CONVERGENCE CURVES ===========================================\n",
    "fig2, ax2 = plt.subplots(figsize=(3.4, 2.8), dpi=300)\n",
    "\n",
    "for label, vals in conv_dict.items():\n",
    "    it = np.arange(1, len(vals) + 1)\n",
    "    ax2.semilogy(it, vals / vals[0], marker=\"o\", ms=3, lw=1, label=label)\n",
    "\n",
    "ax2.set_xlabel(r\"Iteration $k$\")\n",
    "ax2.set_ylabel(r\"$J_k/J_0$ (relative error)\")\n",
    "ax2.set_xlim(1, max(len(v) for v in conv_dict.values()))\n",
    "ax2.grid(alpha=0.3, which=\"both\")\n",
    "ax2.legend(frameon=False, loc=\"upper right\", handlelength=1.3)\n",
    "\n",
    "fig2.tight_layout()\n",
    "fig2.savefig(\"convergence_curves.pdf\", bbox_inches=\"tight\")\n",
    "plt.show()"
   ]
  }
 ],
 "metadata": {
  "kernelspec": {
   "display_name": "Python 3",
   "language": "python",
   "name": "python3"
  },
  "language_info": {
   "codemirror_mode": {
    "name": "ipython",
    "version": 3
   },
   "file_extension": ".py",
   "mimetype": "text/x-python",
   "name": "python",
   "nbconvert_exporter": "python",
   "pygments_lexer": "ipython3",
   "version": "3.13.3"
  }
 },
 "nbformat": 4,
 "nbformat_minor": 5
}
