{
 "cells": [
  {
   "cell_type": "markdown",
   "metadata": {},
   "source": [
    "# Galerkin block assembly"
   ]
  },
  {
   "cell_type": "code",
   "execution_count": 3,
   "metadata": {},
   "outputs": [],
   "source": [
    "from kl_decomposition import galerkin\n",
    "import numpy as np\n"
   ]
  },
  {
   "cell_type": "code",
   "execution_count": null,
   "metadata": {},
   "outputs": [
    {
     "name": "stdout",
     "output_type": "stream",
     "text": [
      "[[ 0.76395565  0.         -0.07852254]\n",
      " [ 0.          0.19628801  0.        ]\n",
      " [-0.07852254  0.          0.03462622]]\n"
     ]
    }
   ],
   "source": [
    "A = galerkin.assemble_block((0.0, 1.0), coeff_b=2.0, n=3)\n",
    "print(A)"
   ]
  },
  {
   "cell_type": "markdown",
   "metadata": {},
   "source": [
    "## Fast assembly with Duffy mapping"
   ]
  },
  {
   "cell_type": "code",
   "execution_count": 5,
   "metadata": {},
   "outputs": [
    {
     "name": "stdout",
     "output_type": "stream",
     "text": [
      "Frobenius error vs reference: 2.486022208873916e-14\n"
     ]
    }
   ],
   "source": [
    "A_duf = galerkin.assemble_duffy(f=100.0, degree=3, quad=40)\n",
    "A_ref = galerkin.assemble_gauss2d(f=100.0, degree=3, quad=1000)\n",
    "err = np.linalg.norm(A_duf - A_ref)\n",
    "print('Frobenius error vs reference:', err)"
   ]
  }
 ],
 "metadata": {
  "kernelspec": {
   "display_name": "Python 3",
   "language": "python",
   "name": "python3"
  },
  "language_info": {
   "codemirror_mode": {
    "name": "ipython",
    "version": 3
   },
   "file_extension": ".py",
   "mimetype": "text/x-python",
   "name": "python",
   "nbconvert_exporter": "python",
   "pygments_lexer": "ipython3",
   "version": "3.13.3"
  }
 },
 "nbformat": 4,
 "nbformat_minor": 2
}
