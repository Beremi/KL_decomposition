{
 "cells": [
  {
   "cell_type": "markdown",
   "metadata": {},
   "source": [
    "# Galerkin block assembly"
   ]
  },
  {
   "cell_type": "code",
   "execution_count": null,
   "metadata": {},
   "outputs": [],
   "source": [
    "import sys\n",
    "from pathlib import Path\n",
    "sys.path.insert(0, str(Path('..') / 'src'))\n",
    "from kl_decomposition import assemble_block\n",
    "A = assemble_block((0.0, 1.0), b=2.0, n=3)\n",
    "print(A)"
   ]
  },
  {
   "cell_type": "markdown",
   "metadata": {},
   "source": [
    "## Fast assembly with Duffy mapping"
   ]
  },
  {
   "cell_type": "code",
   "execution_count": null,
   "metadata": {},
   "outputs": [],
   "source": [
    "import numpy as np\n",
    "from kl_decomposition import assemble_duffy, assemble_gauss2d\n",
    "A_duf = assemble_duffy(f=100.0, degree=3, quad=40)\n",
    "A_ref = assemble_gauss2d(f=100.0, degree=3, quad=1000)\n",
    "err = np.linalg.norm(A_duf - A_ref)\n",
    "print('Frobenius error vs reference:', err)"
   ]
  }
 ],
 "metadata": {
  "kernelspec": {
   "display_name": "Python 3",
   "language": "python",
   "name": "python3"
  },
  "language_info": {
   "name": "python",
   "version": "3.13.3"
  }
 },
 "nbformat": 4,
 "nbformat_minor": 2
}
