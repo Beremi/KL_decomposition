{
  "cells": [
    {
      "cell_type": "markdown",
      "metadata": {},
      "source": [
        "# Newton line search on exponential fit"
      ]
    },
    {
      "cell_type": "code",
      "execution_count": null,
      "metadata": {},
      "outputs": [],
      "source": [
        "import sys\n",
        "from pathlib import Path\n",
        "sys.path.insert(0, str(Path('..') / 'src'))\n",
        "from kl_decomposition import rectangle_rule, fit_exp_sum, newton_with_line_search, gauss_legendre_rule\n",
        "from kl_decomposition.kernel_fit import _prepare_jax_funcs\n",
        "import numpy as np\n",
        "import jax\n",
        "import jax.numpy as jnp"
      ]
    },
    {
      "cell_type": "code",
      "execution_count": null,
      "id": "2ba22de4",
      "metadata": {},
      "outputs": [],
      "source": [
        "import numpy as np\n",
        "import time\n",
        "\n",
        "\n",
        "def de(obj, dim,\n",
        "       pop_size=15,\n",
        "       max_gen=100,\n",
        "       F=0.8,\n",
        "       CR=0.9,\n",
        "       seed=42,\n",
        "       tol=None,            # e.g. 1e-8   -> activate plateau stop\n",
        "       patience=10,         # how many stagnant generations to allow\n",
        "       target=None,         # objective value to reach, e.g. 1e-12\n",
        "       verbose=False):\n",
        "\n",
        "    rng = np.random.default_rng(seed)\n",
        "    pop = np.sort(rng.normal(size=(pop_size, dim)), 1)\n",
        "    scores = np.array([obj(x) for x in pop])\n",
        "    evals = pop_size\n",
        "    best = scores.min()\n",
        "    stall = 0\n",
        "    t0 = time.time()\n",
        "\n",
        "    for g in range(max_gen):\n",
        "        for i in range(pop_size):\n",
        "            a, b, c = rng.choice(pop_size, 3, replace=False)\n",
        "            mutant = np.sort(pop[a] + F * (pop[b] - pop[c]))\n",
        "            mask = rng.random(dim) < CR\n",
        "            mask[rng.integers(dim)] = True\n",
        "            trial = np.where(mask, mutant, pop[i])\n",
        "            s = obj(trial)\n",
        "            evals += 1\n",
        "            if s < scores[i]:\n",
        "                pop[i], scores[i] = trial, s\n",
        "\n",
        "        new_best = scores.min()\n",
        "\n",
        "        if verbose:\n",
        "            print(f'gen {g:3d} | best {new_best:.3e}')\n",
        "\n",
        "        # --- stopping checks ----------------------------------------------\n",
        "        if target is not None and new_best <= target:\n",
        "            if verbose:\n",
        "                print('target reached – stopping')\n",
        "            break\n",
        "\n",
        "        if tol is not None:\n",
        "            if abs(best - new_best) <= tol * (abs(best) + 1e-12):\n",
        "                stall += 1\n",
        "                if stall >= patience:\n",
        "                    if verbose:\n",
        "                        print('no significant improvement – stopping')\n",
        "                    break\n",
        "            else:\n",
        "                stall = 0\n",
        "\n",
        "        best = new_best\n",
        "\n",
        "    k = scores.argmin()\n",
        "    return pop[k], {'best_score': float(scores[k]),\n",
        "                    'iterations': g + 1,\n",
        "                    'eval_count': evals,\n",
        "                    'runtime': time.time() - t0}"
      ]
    },
    {
      "cell_type": "code",
      "execution_count": null,
      "id": "234b0ddf",
      "metadata": {},
      "outputs": [],
      "source": [
        "import numpy as np\n",
        "N = 30                                    # number of exponential terms\n",
        "x, w = rectangle_rule(0.0, 5.0, 10000)      # integration grid\n",
        "# x, w = gauss_legendre_rule(0.0, 5.0, 4000)  # integration grid\n",
        "target = np.exp(-x)                       # func(t) = exp(-t)\n",
        "dim = N                                   # only the log-b parameters\n",
        "\n",
        "sqrt_w = np.sqrt(w)                       # pre-compute once for speed\n",
        "y = target * sqrt_w\n",
        "\n",
        "\n",
        "def objective(c_params):\n",
        "    \"\"\"Return weighted least-squares error for current log-b vector.\"\"\"\n",
        "    b_sorted = np.sort(np.exp(c_params))                    # enforce order\n",
        "    F = np.exp(-b_sorted[None, :] * x[:, None] ** 2)\n",
        "    A = F * sqrt_w[:, None]                                 # weighted design\n",
        "    a_ls, *_ = np.linalg.lstsq(A, y, rcond=None)            # LS solution\n",
        "    residual = F @ a_ls - target\n",
        "    return np.sum(w * residual * residual)\n",
        "\n",
        "\n",
        "# ---- optimise ------------------------------------------------------------\n",
        "best_c, info = de(objective, dim,\n",
        "                  pop_size=30,\n",
        "                  max_gen=500,\n",
        "                  tol=1e-16,\n",
        "                  patience=20,\n",
        "                  verbose=True,seed=3)\n",
        "\n",
        "# ---- reconstruct final coefficients --------------------------------------\n",
        "b_est = np.sort(np.exp(best_c))\n",
        "F = np.exp(-b_est[None, :] * x[:, None] ** 2)\n",
        "A = F * sqrt_w[:, None]\n",
        "a_est, *_ = np.linalg.lstsq(A, y, rcond=None)\n",
        "\n",
        "print(\"\\nEstimated a:\", a_est)\n",
        "print(\"Estimated b:\", b_est)\n",
        "print(\"Best weighted-LS error:\", info[\"best_score\"])"
      ]
    },
    {
      "cell_type": "code",
      "execution_count": null,
      "metadata": {},
      "outputs": [],
      "source": [
        "N = 4\n",
        "x, w = rectangle_rule(0.0, 5.0, 100)\n",
        "func = lambda t: np.exp(-t)\n",
        "a_ls, b_ls, info = fit_exp_sum(N, x, w, func, method='de_ls', max_gen=500, pop_size=30)\n",
        "print('initial a:', a_ls)\n",
        "print('initial b:', b_ls)\n"
      ]
    },
    {
      "cell_type": "code",
      "execution_count": null,
      "id": "92871a40",
      "metadata": {},
      "outputs": [],
      "source": [
        "params0 = np.concatenate([a_est, np.log(b_est)])\n",
        "params0"
      ]
    },
    {
      "cell_type": "code",
      "execution_count": null,
      "metadata": {},
      "outputs": [],
      "source": [
        "target = lambda t: np.exp(-t)\n",
        "obj, grad, hess = _prepare_jax_funcs(x, target, w, newton=True)",
        "params0 = np.concatenate([a_est, np.log(b_est)])\n",
        "params_opt, stats = newton_with_line_search(params0, obj, grad, hess, max_iter=10)\n",
        "print('refined a:', np.exp(params_opt[:N]))\n",
        "print('refined b:', np.exp(params_opt[N:]))\n",
        "print('Newton iterations:', stats.iterations)"
      ]
    }
  ],
  "metadata": {
    "kernelspec": {
      "display_name": "Python 3",
      "language": "python",
      "name": "python3"
    },
    "language_info": {
      "codemirror_mode": {
        "name": "ipython",
        "version": 3
      },
      "file_extension": ".py",
      "mimetype": "text/x-python",
      "name": "python",
      "nbconvert_exporter": "python",
      "pygments_lexer": "ipython3",
      "version": "3.13.3"
    }
  },
  "nbformat": 4,
  "nbformat_minor": 5
}
