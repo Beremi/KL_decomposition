{
 "cells": [
  {
   "cell_type": "markdown",
   "id": "1efaefc7",
   "metadata": {},
   "source": [
    "# Exponential approximation exploration\n",
    "\n",
    "This notebook demonstrates the quality of the sum of exponentials approximation implemented in the library."
   ]
  },
  {
   "cell_type": "code",
   "execution_count": null,
   "id": "8c8ed25c",
   "metadata": {},
   "outputs": [],
   "source": [
    "import numpy as np\n",
    "import matplotlib.pyplot as plt\n",
    "from kl_decomposition import gauss_legendre_rule, fit_exp_sum"
   ]
  },
  {
   "cell_type": "markdown",
   "id": "85865d4a",
   "metadata": {},
   "source": [
    "## Helper utilities"
   ]
  },
  {
   "cell_type": "code",
   "execution_count": null,
   "id": "d2971c9a",
   "metadata": {},
   "outputs": [],
   "source": [
    "def l2_error(f, g, x, w):\n",
    "    return np.sqrt(np.sum(w * (f(x) - g(x))**2))"
   ]
  },
  {
   "cell_type": "markdown",
   "id": "b69930a0",
   "metadata": {},
   "source": [
    "## Target covariance functions"
   ]
  },
  {
   "cell_type": "code",
   "execution_count": null,
   "id": "17237d2e",
   "metadata": {},
   "outputs": [],
   "source": [
    "def cov_exp(d):\n",
    "    return np.exp(-d)\n",
    "\n",
    "def cov_matern32(d):\n",
    "    return (1 + d) * np.exp(-d)\n",
    "\n",
    "def cov_matern52(d):\n",
    "    return (1 + d + d**2/3.) * np.exp(-d)"
   ]
  },
  {
   "cell_type": "markdown",
   "id": "762460dc",
   "metadata": {},
   "source": [
    "## Fit and error curves"
   ]
  },
  {
   "cell_type": "code",
   "execution_count": null,
   "id": "b8969e94",
   "metadata": {},
   "outputs": [],
   "source": [
    "\n",
    "x, w = gauss_legendre_rule(0.0, 5.0, 200)\n",
    "funcs = {\n",
    "    'Exponential': cov_exp,\n",
    "    'Matern 3/2': cov_matern32,\n",
    "    'Matern 5/2': cov_matern52,\n",
    "}\n",
    "errors = {name: [] for name in funcs}\n",
    "ns = range(1, 7)\n",
    "for n in ns:\n",
    "    for name, f in funcs.items():\n",
    "        a, b = fit_exp_sum(n, x, w, f, method='de')\n",
    "        def approx(t, a=a, b=b):\n",
    "            return np.sum(a[:, None] * np.exp(-b[:, None] * t[None, :]**2), axis=0)\n",
    "        err = l2_error(f, approx, x, w)\n",
    "        errors[name].append(err)\n",
    "plt.figure(figsize=(6,4))\n",
    "for name, vals in errors.items():\n",
    "    plt.semilogy(list(ns), vals, label=name)\n",
    "plt.xlabel('Number of terms')\n",
    "plt.ylabel('L2 error')\n",
    "plt.legend()\n",
    "plt.tight_layout()\n"
   ]
  }
 ],
 "metadata": {},
 "nbformat": 4,
 "nbformat_minor": 5
}
