{
 "cells": [
  {
   "cell_type": "markdown",
  "metadata": {},
  "source": [
    "# Differential evolution with sorted population (JAX compiled)"
  ]
  },
  {
   "cell_type": "markdown",
   "metadata": {},
   "source": [
    "This example demonstrates the specialised differential evolution\n",
    "algorithm that keeps each candidate's parameters sorted after every\n",
    "mutation and Newton refinement. The objective and Newton solver\n",
    "operate on already sorted arrays, so no additional sorting is done\n",
    "inside those routines."
   ]
  },
  {
   "cell_type": "code",
   "execution_count": null,
   "metadata": {},
   "outputs": [],
   "source": [
    "import sys\n",
    "from pathlib import Path\n",
    "sys.path.insert(0, str(Path('..') / 'src'))\n",
    "from kl_decomposition import rectangle_rule\n",
    "from kl_decomposition.kernel_fit import fit_exp_sum_sorted\n",
    "import numpy as np\n",
    "\n",
    "x, w = rectangle_rule(0.0, 2.0, 50)\n",
    "f = lambda t: np.exp(-t)\n",
    "a, b, info = fit_exp_sum_sorted(2, x, w, f, max_gen=20, pop_size=20, compiled=True)\n",
    "print('a:', a)\n",
    "print('b:', b)\n",
    "print('best_score:', info.best_score)"
   ]
  }
 ],
 "metadata": {
  "kernelspec": {
   "display_name": "Python 3",
   "name": "python3"
  },
  "language_info": {
   "codemirror_mode": {
    "name": "ipython",
    "version": 3
   },
   "file_extension": ".py",
   "mimetype": "text/x-python",
   "name": "python",
   "nbconvert_exporter": "python",
   "pygments_lexer": "ipython3",
   "version": "3.13.2"
  }
 },
 "nbformat": 4,
 "nbformat_minor": 5
}
