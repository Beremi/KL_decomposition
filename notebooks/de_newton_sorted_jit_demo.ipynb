{
  "cells": [
    {
      "cell_type": "markdown",
      "metadata": {},
      "source": [
        "# Differential evolution with sorted population (JAX compiled)"
      ]
    },
    {
      "cell_type": "markdown",
      "metadata": {},
      "source": [
        "This example demonstrates the specialised differential evolution\n",
        "algorithm that keeps each candidate's parameters sorted after every\n",
        "mutation and Newton refinement. The objective and Newton solver\n",
        "operate on already sorted arrays, so no additional sorting is done\n",
        "inside those routines."
      ]
    },
    {
      "cell_type": "code",
      "execution_count": null,
      "metadata": {},
      "outputs": [],
      "source": [
        "import sys\n",
        "from pathlib import Path\n",
        "sys.path.insert(0, str(Path('..') / 'src'))\n",
        "from kl_decomposition import rectangle_rule\n",
        "from kl_decomposition.kernel_fit import (\n",
        "    _prepare_jax_funcs,\n",
        "    _differential_evolution_sorted,\n",
        "    newton_with_line_search,\n",
        ")\n",
        "import numpy as np\n",
        "\n",
        "x, w = rectangle_rule(0.0, 2.0, 50)\n",
        "f = lambda t: np.exp(-t)\n",
        "target = f(x)\n",
        "obj, grad, hess = _prepare_jax_funcs(x, target, w, compiled=True, newton=False)",
        "def newton_fn(p):\n",
        "    refined, _ = newton_with_line_search(p, obj, grad, hess, max_iter=1, compiled=True, grad_tol=1e-6)\n",
        "    return refined\n",
        "\n",
        "params, info = _differential_evolution_sorted(\n",
        "    obj,\n",
        "    2,\n",
        "    max_gen=20,\n",
        "    pop_size=20,\n",
        "    n_newton=2,\n",
        "    grad=grad,\n",
        "    grad_tol=1e-6,\n",
        "    verbose=True,\n",
        ")\n",
        "a = np.exp(params[:2])\n",
        "b = np.exp(params[2:])\n",
        "print('a:', a)\n",
        "print('b:', b)\n",
        "print('best_score:', info.best_score)\n",
        "print('grad_history:', info.grad_history)"
      ]
    }
  ],
  "metadata": {
    "kernelspec": {
      "display_name": "Python 3",
      "name": "python3"
    },
    "language_info": {
      "codemirror_mode": {
        "name": "ipython",
        "version": 3
      },
      "file_extension": ".py",
      "mimetype": "text/x-python",
      "name": "python",
      "nbconvert_exporter": "python",
      "pygments_lexer": "ipython3",
      "version": "3.13.2"
    }
  },
  "nbformat": 4,
  "nbformat_minor": 5
}
