{
 "cells": [
  {
   "cell_type": "markdown",
   "id": "fb6221da",
   "metadata": {},
   "source": [
    "# Exponential kernel eigen-decomposition"
   ]
  },
  {
   "cell_type": "code",
   "execution_count": null,
   "id": "9586e54e",
   "metadata": {},
   "outputs": [],
   "source": [
    "from kl_decomposition import exp_kernel_eigen\n",
    "alpha = 2.0\n",
    "vals_c, freqs_c, vals_s, freqs_s = exp_kernel_eigen(alpha, L=1.0, n_cos=3, n_sin=3)\n",
    "print('cos eigenvalues:', vals_c)\n",
    "print('sin eigenvalues:', vals_s)"
   ]
  },
  {
   "cell_type": "code",
   "execution_count": null,
   "id": "a63fd410",
   "metadata": {},
   "outputs": [],
   "source": [
    "import numpy as np\n",
    "import matplotlib.pyplot as plt\n",
    "x = np.linspace(0,1,200)\n",
    "plt.figure()\n",
    "for w in freqs_c:\n",
    "    plt.plot(x, np.sqrt(2)*np.cos(w*x), label=f'cos w={w:.2f}')\n",
    "for w in freqs_s:\n",
    "    plt.plot(x, np.sqrt(2)*np.sin(w*x), '--', label=f'sin w={w:.2f}')\n",
    "plt.legend()\n",
    "plt.show()"
   ]
  }
 ],
 "metadata": {},
 "nbformat": 4,
 "nbformat_minor": 5
}
