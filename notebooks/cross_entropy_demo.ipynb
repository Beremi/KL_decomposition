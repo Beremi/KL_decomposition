{
 "cells": [
  {
   "cell_type": "markdown",
   "metadata": {},
   "source": ["# Cross-entropy kernel fit"]
  },
  {
   "cell_type": "code",
   "metadata": {},
   "source": [
    "import sys\n",
    "from pathlib import Path\n",
    "sys.path.insert(0, str(Path('..') / 'src'))\n",
    "from kl_decomposition import rectangle_rule\n",
    "from kl_decomposition.kernel_fit import fit_exp_sum_ce\n",
    "import numpy as np"
   ],
   "execution_count": null,
   "outputs": []
  },
  {
   "cell_type": "code",
   "metadata": {},
   "source": [
    "x, w = rectangle_rule(0.0, 2.0, 50)\n",
    "f = lambda t: np.exp(-t) + 0.5 * np.exp(-3.0 * t)\n",
    "a, b, info = fit_exp_sum_ce(2, x, w, f, iterations=20, pop_size=50)\n",
    "print('a:', a)\n",
    "print('b:', b)\n",
    "print('best_score:', info.best_score)"
   ],
   "execution_count": null,
   "outputs": []
  }
 ],
 "metadata": {
  "kernelspec": {
   "display_name": "Python 3",
   "language": "python",
   "name": "python3"
  },
  "language_info": {
   "name": "python",
   "pygments_lexer": "ipython3"
  }
 },
 "nbformat": 4,
 "nbformat_minor": 5
}
