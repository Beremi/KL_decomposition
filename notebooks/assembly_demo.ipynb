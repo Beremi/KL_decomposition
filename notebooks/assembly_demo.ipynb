{
 "cells": [
  {
   "cell_type": "markdown",
   "metadata": {},
   "source": "# Galerkin block assembly"
  },
  {
  "cell_type": "code",
  "execution_count": null,
  "metadata": {},
  "outputs": [],
  "source": "import sys\nfrom pathlib import Path\nsys.path.insert(0, str(Path('..') / 'src'))\nfrom kl_decomposition import assemble_block\nA = assemble_block((0.0, 1.0), b=2.0, n=3)\nprint(A)"
  }
 ,
  {
   "cell_type": "markdown",
   "metadata": {},
   "source": "## Fast assembly with Duffy mapping"
  },
  {
   "cell_type": "code",
   "execution_count": null,
   "metadata": {},
   "outputs": [],
   "source": "import numpy as np\nfrom kl_decomposition import assemble_duffy, assemble_gauss2d\nA_duf = assemble_duffy(f=100.0, degree=3, quad=40)\nA_ref = assemble_gauss2d(f=100.0, degree=3, quad=1000)\nerr = np.linalg.norm(A_duf - A_ref)\nprint('Frobenius error vs reference:', err)"
  }
],
 "metadata": {
  "kernelspec": {
   "display_name": "Python",
   "language": "python",
   "name": "python3"
  }
 },
 "nbformat": 4,
 "nbformat_minor": 2
}
