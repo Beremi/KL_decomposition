{
  "cells": [
    {
      "cell_type": "markdown",
      "id": "448efce8",
      "metadata": {},
      "source": [
        "# Benchmarking JIT compilation"
      ]
    },
    {
      "cell_type": "code",
      "execution_count": null,
      "id": "c558557f",
      "metadata": {},
      "outputs": [],
      "source": [
        "import sys\n",
        "from pathlib import Path\n",
        "sys.path.insert(0, str(Path('..') / 'src'))"
      ]
    },
    {
      "cell_type": "code",
      "execution_count": null,
      "id": "7a4feb42",
      "metadata": {},
      "outputs": [],
      "source": [
        "import numpy as np\n",
        "from kl_decomposition import rectangle_rule, fit_exp_sum\n",
        "from kl_decomposition.kernel_fit import _prepare_jax_funcs, _objective_de, _objective_jax_de"
      ]
    },
    {
      "cell_type": "code",
      "execution_count": null,
      "id": "ccf6efed",
      "metadata": {},
      "outputs": [],
      "source": [
        "x, w = rectangle_rule(0.0, 2.0, 100)\n",
        "func = lambda t: np.exp(-3.0*t**2)\n",
        "target = func(x)\n",
        "params = np.zeros(2)"
      ]
    },
    {
      "cell_type": "code",
      "execution_count": null,
      "id": "01ec61fd",
      "metadata": {},
      "outputs": [],
      "source": [
        "from jax import numpy as jnp\n",
        "params_j = jnp.array(params)\n",
        "x_j = jnp.array(x)\n",
        "target_j = jnp.array(target)\n",
        "w_j = jnp.array(w)\n",
        "_objective_jax_de(params_j, x_j, target_j, w_j).block_until_ready()"
      ]
    },
    {
      "cell_type": "code",
      "execution_count": null,
      "id": "e7fc1e85",
      "metadata": {},
      "outputs": [],
      "source": [
        "%%timeit\n",
        "_objective_jax_de(params_j, x_j, target_j, w_j).block_until_ready()"
      ]
    },
    {
      "cell_type": "code",
      "execution_count": null,
      "id": "27932a19",
      "metadata": {
        "tags": [
          "remove-output"
        ]
      },
      "outputs": [],
      "source": [
        "# warm up numba\n",
        "_objective_de(params, x, target, w)"
      ]
    },
    {
      "cell_type": "code",
      "execution_count": null,
      "id": "d03c9735",
      "metadata": {},
      "outputs": [],
      "source": [
        "%%timeit\n",
        "_objective_de(params, x, target, w)"
      ]
    },
    {
      "cell_type": "code",
      "execution_count": null,
      "id": "28a54faa",
      "metadata": {},
      "outputs": [],
      "source": [
        "%%timeit\n",
        "fit_exp_sum(1, x, w, func, method='de_newton')"
      ]
    }
  ],
  "metadata": {
    "kernelspec": {
      "display_name": "Python 3",
      "language": "python",
      "name": "python3"
    },
    "language_info": {
      "codemirror_mode": {
        "name": "ipython",
        "version": 3
      },
      "file_extension": ".py",
      "mimetype": "text/x-python",
      "name": "python",
      "nbconvert_exporter": "python",
      "pygments_lexer": "ipython3",
      "version": "3.13.3"
    }
  },
  "nbformat": 4,
  "nbformat_minor": 5
}
