{
 "cells": [
  {
   "cell_type": "markdown",
   "metadata": {},
   "source": [
    "# Newton line search on exponential fit"
   ]
  },
  {
   "cell_type": "code",
   "execution_count": null,
   "metadata": {},
   "outputs": [],
   "source": [
    "import sys\n",
    "from pathlib import Path\n",
    "sys.path.insert(0, str(Path('..') / 'src'))\n",
    "from kl_decomposition import rectangle_rule, fit_exp_sum, newton_with_line_search\n",
    "from kl_decomposition.kernel_fit import _prepare_jax_funcs\n",
    "import numpy as np\n",
    "import jax\n",
    "import jax.numpy as jnp"
   ]
  },
  {
   "cell_type": "code",
   "execution_count": null,
   "metadata": {},
   "outputs": [],
   "source": [
    "N = 4\n",
    "x, w = rectangle_rule(0.0, 5.0, 100)\n",
    "func = lambda t: np.exp(-t)\n",
    "a_ls, b_ls, info = fit_exp_sum(N, x, w, func, method='de_ls', max_gen=500, pop_size=30, return_info=True)\n",
    "print('initial a:', a_ls)\n",
    "print('initial b:', b_ls)\n"
   ]
  },
  {
   "cell_type": "code",
   "execution_count": null,
   "metadata": {},
   "outputs": [],
   "source": [
    "target = func(x)\n",
    "obj, grad, hess = _prepare_jax_funcs(x, target, w, N)\n",
    "params0 = np.log(np.concatenate([a_ls, b_ls]))\n",
    "params_opt, stats = newton_with_line_search(params0, obj, grad, hess, max_iter=10, return_stats=True)\n",
    "print('refined a:', np.exp(params_opt[:N]))\n",
    "print('refined b:', np.exp(params_opt[N:]))\n",
    "print('Newton iterations:', stats.iterations)"
   ]
  }
 ],
 "metadata": {
  "kernelspec": {
   "display_name": "Python 3",
   "language": "python",
   "name": "python3"
  },
  "language_info": {
   "codemirror_mode": {
    "name": "ipython",
    "version": 3
   },
   "file_extension": ".py",
   "mimetype": "text/x-python",
   "name": "python",
   "nbconvert_exporter": "python",
   "pygments_lexer": "ipython3",
   "version": "3.13.3"
  }
 },
 "nbformat": 4,
 "nbformat_minor": 5
}
