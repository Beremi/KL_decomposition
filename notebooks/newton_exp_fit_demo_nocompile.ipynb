{
  "cells": [
    {
      "cell_type": "markdown",
      "metadata": {},
      "source": "# Newton line search on exponential fit (no JIT)"
    },
    {
      "cell_type": "code",
      "metadata": {},
      "execution_count": null,
      "outputs": [],
      "source": "import sys\nfrom pathlib import Path\nsys.path.insert(0, str(Path('..') / 'src'))\nfrom kl_decomposition import rectangle_rule, fit_exp_sum, newton_with_line_search\nfrom kl_decomposition.kernel_fit import _prepare_numpy_funcs\nimport numpy as np"
    },
    {
      "cell_type": "code",
      "metadata": {},
      "execution_count": null,
      "outputs": [],
      "source": "N = 3\nx, w = rectangle_rule(0.0, 5.0, 100)\nfunc = lambda t: np.exp(-t)\na_ls, b_ls, info = fit_exp_sum(N, x, w, func, method='de_ls', compiled=False, max_gen=5, pop_size=10, return_info=True)\nprint('initial a:', a_ls)\nprint('initial b:', b_ls)"
    },
    {
      "cell_type": "code",
      "metadata": {},
      "execution_count": null,
      "outputs": [],
      "source": "target = func(x)\nobj, grad, hess = _prepare_numpy_funcs(x, target, w, N)\nparams0 = np.log(np.concatenate([a_ls, b_ls]))\nparams_opt, stats = newton_with_line_search(params0, obj, grad, hess, max_iter=10, compiled=False, return_stats=True)\nprint('refined a:', np.exp(params_opt[:N]))\nprint('refined b:', np.exp(params_opt[N:]))\nprint('Newton iterations:', stats.iterations)"
    }
  ],
  "metadata": {
    "kernelspec": {
      "display_name": "Python",
      "language": "python",
      "name": "python3"
    }
  },
  "nbformat": 4,
  "nbformat_minor": 5
}
