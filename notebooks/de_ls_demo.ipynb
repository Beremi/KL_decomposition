{
  "cells": [
    {
      "cell_type": "markdown",
      "metadata": {},
      "source": [
        "# Differential evolution with least squares"
      ]
    },
    {
      "cell_type": "code",
      "execution_count": null,
      "metadata": {},
      "outputs": [],
      "source": [
        "import sys\n",
        "from pathlib import Path\n",
        "sys.path.insert(0, str(Path('..') / 'src'))\n",
        "from kl_decomposition import rectangle_rule, fit_exp_sum\n",
        "import numpy as np"
      ]
    },
    {
      "cell_type": "code",
      "execution_count": null,
      "metadata": {},
      "outputs": [],
      "source": [
        "x, w = rectangle_rule(0.0, 2.0, 50)\n",
        "f = lambda t: 2.0 * np.exp(-3.0 * t**2) + 0.5 * np.exp(-1.0 * t**2)\n",
        "a, b, info = fit_exp_sum(2, x, w, f, method=\"de_ls\", max_gen=20, pop_size=20)\n",
        "print(\"a:\", a)\n",
        "print(\"b:\", b)\n",
        "print(\"iterations:\", info.iterations)\n",
        "print(\"best_score:\", info.best_score)"
      ]
    }
  ],
  "metadata": {
    "kernelspec": {
      "display_name": "Python 3",
      "language": "python",
      "name": "python3"
    },
    "language_info": {
      "name": "python",
      "version": "3.13.3"
    }
  },
  "nbformat": 4,
  "nbformat_minor": 2
}
