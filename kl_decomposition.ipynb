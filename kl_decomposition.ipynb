{
 "cells": [
  {
   "cell_type": "markdown",
   "id": "f3ed5b8e",
   "metadata": {},
   "source": [
    "# Load squared exponential approximation precomputed in data/*.json"
   ]
  },
  {
   "cell_type": "code",
   "execution_count": 7,
   "id": "141d48cc",
   "metadata": {},
   "outputs": [
    {
     "data": {
      "text/plain": [
       "dict_keys(['1', '2', '3', '4', '5', '6', '7', '8', '9', '10', '11', '12', '13', '14', '15', '16'])"
      ]
     },
     "execution_count": 7,
     "metadata": {},
     "output_type": "execute_result"
    }
   ],
   "source": [
    "import json\n",
    "import numpy as np\n",
    "\n",
    "# Exponential kernel\n",
    "path_exp = \"data/exp.json\"\n",
    "\n",
    "with open(path_exp, \"r\") as f:\n",
    "    squared_approx = json.load(f)\n",
    "\n",
    "# available decomposition sizes\n",
    "squared_approx.keys()"
   ]
  },
  {
   "cell_type": "code",
   "execution_count": 8,
   "id": "0665419c",
   "metadata": {},
   "outputs": [],
   "source": [
    "decomp_size = 16\n",
    "a_coeff = squared_approx[str(decomp_size)]['a']\n",
    "b_coeff = np.exp(squared_approx[str(decomp_size)]['b'])"
   ]
  },
  {
   "cell_type": "markdown",
   "id": "cb8e92fd",
   "metadata": {},
   "source": [
    "## Compute all submatrices (on interval [0, 1])"
   ]
  },
  {
   "cell_type": "code",
   "execution_count": 9,
   "id": "0c26b63f",
   "metadata": {},
   "outputs": [],
   "source": [
    "from kl_decomposition import galerkin\n",
    "comp_degree = 30\n",
    "quad = 500\n",
    "g = 4.0\n",
    "\n",
    "A_all = []\n",
    "\n",
    "for b in b_coeff:\n",
    "    A_all.append(galerkin.assemble_duffy(f=b, degree=comp_degree, quad=quad, gx=g))"
   ]
  },
  {
   "cell_type": "markdown",
   "id": "04913916",
   "metadata": {},
   "source": [
    "# Assemble block of A as operators for iterative eigenvalue decomposition"
   ]
  },
  {
   "cell_type": "code",
   "execution_count": 21,
   "id": "86d0fc7f",
   "metadata": {},
   "outputs": [],
   "source": [
    "import numpy as np\n",
    "from itertools import product\n",
    "from functools import partial\n",
    "from scipy.sparse.linalg import LinearOperator, eigsh             # SciPy ≥ 1.10\n",
    "\n",
    "# --------------------------------------------------------------------------- #\n",
    "# 0.  helper: \"mode-dot\" using einsum   [  X ← M @ X  along one axis  ]\n",
    "# --------------------------------------------------------------------------- #\n",
    "\n",
    "\n",
    "def _left_mult_axis(X, M, axis):\n",
    "    \"\"\"\n",
    "    Return tensor Y whose 'axis'–th index is left-multiplied by matrix M.\n",
    "\n",
    "    X   ... ndarray with ndim = n\n",
    "    M   ... 2-D ndarray   (d_out, d_in)\n",
    "    \"\"\"\n",
    "    # move the axis to the front, do the contraction, and move it back\n",
    "    X_move = np.moveaxis(X, axis, 0)              # (d_in, …)\n",
    "    Y = np.einsum('ij,j...->i...', M, X_move)  # einsum does the matmul\n",
    "    return np.moveaxis(Y, 0, axis)                # (d_out, …)\n",
    "\n",
    "\n",
    "# --------------------------------------------------------------------------- #\n",
    "# 1.  split local matrices into even/odd dense blocks\n",
    "# --------------------------------------------------------------------------- #\n",
    "def _even_odd_blocks(A):\n",
    "    idx_even = np.arange(0, A.shape[0], 2)\n",
    "    idx_odd = np.arange(1, A.shape[0], 2)\n",
    "    return (A[np.ix_(idx_even, idx_even)],\n",
    "            A[np.ix_(idx_odd, idx_odd)])\n",
    "\n",
    "\n",
    "def _preprocess_blocks(A_all):\n",
    "    even_blocks, odd_blocks = [], []\n",
    "    for A in A_all:\n",
    "        E, O = _even_odd_blocks(A)\n",
    "        even_blocks.append(E)\n",
    "        odd_blocks.append(O)\n",
    "    return even_blocks, odd_blocks\n",
    "\n",
    "\n",
    "# --------------------------------------------------------------------------- #\n",
    "# 2.  make a LinearOperator for ONE parity sector  p = (p₀,…,p_{n-1})\n",
    "# --------------------------------------------------------------------------- #\n",
    "def _make_block_operator(bits, even_blocks, odd_blocks, g_coeff):\n",
    "    \"\"\"\n",
    "    bits         ... parity pattern, tuple of 0/1, length n\n",
    "    even_blocks  ... list[ndarray]  (len = M)\n",
    "    odd_blocks   ... list[ndarray]  (len = M)\n",
    "    g_coeff      ... list[float]    (len = M)\n",
    "    \"\"\"\n",
    "    n = len(bits)\n",
    "    M = len(g_coeff)\n",
    "    # dimension along each tensor mode\n",
    "    d_even, d_odd = even_blocks[0].shape[0], odd_blocks[0].shape[0]\n",
    "    dims = [d_even if b == 0 else d_odd for b in bits]\n",
    "    size_block = int(np.prod(dims))\n",
    "\n",
    "    # --- matvec ------------------------------------------------------------ #\n",
    "    def matvec(x):\n",
    "        X = x.reshape(dims)                  # vector → tensor\n",
    "        Y_tot = np.zeros_like(X)\n",
    "        for k in range(M):\n",
    "            # pick the local block for *this* k and each axis\n",
    "            mats = [even_blocks[k] if b == 0 else odd_blocks[k] for b in bits]\n",
    "            T = X\n",
    "            for axis, Mk in enumerate(mats):      # n mode-multiplications\n",
    "                T = _left_mult_axis(T, Mk, axis)\n",
    "            Y_tot += g_coeff[k] * T\n",
    "        return Y_tot.ravel()                      # tensor → vector\n",
    "\n",
    "    return LinearOperator((size_block, size_block),\n",
    "                          matvec=matvec,\n",
    "                          rmatvec=matvec,         # Hermitian ⇒ same action\n",
    "                          dtype=even_blocks[0].dtype)\n",
    "\n",
    "\n",
    "# --------------------------------------------------------------------------- #\n",
    "# 3.  main routine\n",
    "# --------------------------------------------------------------------------- #\n",
    "def spectral_blocks(A_all, a_coeff, n, N_eval=6):\n",
    "    \"\"\"\n",
    "    Parameters\n",
    "    ----------\n",
    "    A_all   : list of ndarrays – the M local checker-board matrices A_k\n",
    "    a_coeff : list/array         – the g_k coefficients (same length M)\n",
    "    n       : int                – tensor order  (= number of sites/dimensions)\n",
    "    N_eval  : int                – largest N_eval eigenvalues per block\n",
    "\n",
    "    Returns\n",
    "    -------\n",
    "    eigvals : dict {parity_tuple : ndarray (desc. sorted)}\n",
    "    \"\"\"\n",
    "    even_blocks, odd_blocks = _preprocess_blocks(A_all)\n",
    "    eigvals = {}\n",
    "\n",
    "    for bits in product((0, 1), repeat=n):                # 2^n blocks\n",
    "        op = _make_block_operator(bits, even_blocks, odd_blocks, a_coeff)\n",
    "        k = min(N_eval, op.shape[0] - 1)                 # eigsh needs k < dim\n",
    "        w, _ = eigsh(op, k=k, which='LA')                 # largest algebraic\n",
    "        eigvals[bits] = np.sort(w)[::-1]                  # descending\n",
    "\n",
    "    return eigvals\n",
    "\n"
   ]
  },
  {
   "cell_type": "code",
   "execution_count": 25,
   "id": "dad99ce7",
   "metadata": {},
   "outputs": [
    {
     "name": "stdout",
     "output_type": "stream",
     "text": [
      "Top-5 eigenvalues in the all-even block:\n"
     ]
    },
    {
     "data": {
      "text/plain": [
       "{(0,\n",
       "  0): array([6.15427911e-01, 2.19059775e-02, 1.87530274e-02, 5.44974179e-03,\n",
       "        3.20024907e-03, 3.09870844e-03, 1.78266907e-03, 1.65335691e-03,\n",
       "        9.78963461e-04, 9.63089317e-04, 8.54191220e-04, 7.00471428e-04,\n",
       "        6.78567441e-04, 4.52803501e-04, 4.33841284e-04, 4.11046569e-04,\n",
       "        4.10562342e-04, 3.36091317e-04, 3.29822491e-04, 2.75633702e-04]),\n",
       " (0,\n",
       "  1): array([0.08840408, 0.01059064, 0.00700638, 0.00297971, 0.00236935,\n",
       "        0.00165656, 0.00121791, 0.00105512, 0.00083412, 0.0006225 ,\n",
       "        0.00060367, 0.00055426, 0.0004701 , 0.0003767 , 0.00034939,\n",
       "        0.00032572, 0.00028995, 0.00028713, 0.00024332, 0.00021856]),\n",
       " (1,\n",
       "  0): array([0.08840408, 0.01059064, 0.00700638, 0.00297971, 0.00236935,\n",
       "        0.00165656, 0.00121791, 0.00105512, 0.00083412, 0.0006225 ,\n",
       "        0.00060367, 0.00055426, 0.0004701 , 0.0003767 , 0.00034939,\n",
       "        0.00032572, 0.00028995, 0.00028713, 0.00024332, 0.00021856]),\n",
       " (1,\n",
       "  1): array([0.028086  , 0.0049382 , 0.00440907, 0.00187816, 0.00137933,\n",
       "        0.00132838, 0.00082898, 0.0007874 , 0.00055258, 0.00054156,\n",
       "        0.00045997, 0.00039946, 0.00038956, 0.000276  , 0.00026725,\n",
       "        0.00026519, 0.00026352, 0.00021729, 0.00021382, 0.00017798])}"
      ]
     },
     "execution_count": 25,
     "metadata": {},
     "output_type": "execute_result"
    }
   ],
   "source": [
    "\n",
    "# --- spectra ----------------------------------------------------------- #\n",
    "spectra = spectral_blocks(A_all, a_coeff, 2, N_eval=20)\n",
    "\n",
    "# peek at one sector, e.g. p = (0,0,0,0)\n",
    "print(\"Top-5 eigenvalues in the all-even block:\")\n",
    "spectra"
   ]
  },
  {
   "cell_type": "code",
   "execution_count": 17,
   "id": "e158df48",
   "metadata": {},
   "outputs": [],
   "source": [
    "%load_ext line_profiler"
   ]
  },
  {
   "cell_type": "code",
   "execution_count": 20,
   "id": "e5bdb5df",
   "metadata": {},
   "outputs": [
    {
     "name": "stdout",
     "output_type": "stream",
     "text": [
      "Timer unit: 1e-09 s\n",
      "\n",
      "Total time: 6.24518 s\n",
      "File: /tmp/ipykernel_1568690/1999837027.py\n",
      "Function: assemble_block_operator at line 49\n",
      "\n",
      "Line #      Hits         Time  Per Hit   % Time  Line Contents\n",
      "==============================================================\n",
      "    49                                           def assemble_block_operator(E_blocks, O_blocks, g, parity_bits):\n",
      "    50                                               \"\"\"\n",
      "    51                                               g:       list of g_k\n",
      "    52                                               parity_bits: tuple/list of 0/1 of length n\n",
      "    53                                               \"\"\"\n",
      "    54         8       4743.0    592.9      0.0      op = None\n",
      "    55                                               # pick the right local block (E or O) for each site & k\n",
      "    56       136     312309.0   2296.4      0.0      for k, (Ek, Ok) in enumerate(zip(E_blocks, O_blocks)):\n",
      "    57       512     274892.0    536.9      0.0          local_factors = [Ek if bit == 0 else Ok for bit in parity_bits]\n",
      "    58       128 4267570402.0    3e+07     68.3          term = g[k] * kron_product(local_factors)\n",
      "    59       128 1977016225.0    2e+07     31.7          op = term if op is None else op + term\n",
      "    60         8       2381.0    297.6      0.0      return op\n",
      "\n",
      "Total time: 6.25409 s\n",
      "File: /tmp/ipykernel_1568690/1999837027.py\n",
      "Function: build_all_blocks at line 63\n",
      "\n",
      "Line #      Hits         Time  Per Hit   % Time  Line Contents\n",
      "==============================================================\n",
      "    63                                           def build_all_blocks(A_all, a_coeff, n):\n",
      "    64                                               \"\"\"\n",
      "    65                                               Returns a dict  {parity_tuple: sparse_matrix}\n",
      "    66                                               with  parity_tuple  in  {0,1}^n    (0 = even, 1 = odd).\n",
      "    67                                               \"\"\"\n",
      "    68         1    5558637.0    6e+06      0.1      E_blocks, O_blocks = preprocess_local_blocks(A_all)\n",
      "    69         1        301.0    301.0      0.0      block_ops = {}\n",
      "    70         9      12517.0   1390.8      0.0      for bits in product((0, 1), repeat=n):\n",
      "    71        16 6248518396.0    4e+08     99.9          block_ops[bits] = assemble_block_operator(E_blocks,\n",
      "    72         8       2132.0    266.5      0.0                                                    O_blocks,\n",
      "    73         8       1590.0    198.8      0.0                                                    a_coeff,\n",
      "    74         8        780.0     97.5      0.0                                                    bits)\n",
      "    75         1        248.0    248.0      0.0      return block_ops\n",
      "\n",
      "Total time: 8.88129 s\n",
      "File: /tmp/ipykernel_1568690/1999837027.py\n",
      "Function: spectral_decomposition at line 98\n",
      "\n",
      "Line #      Hits         Time  Per Hit   % Time  Line Contents\n",
      "==============================================================\n",
      "    98                                           def spectral_decomposition(A_all, a_coeff, n, N=6):\n",
      "    99                                               \"\"\"\n",
      "   100                                               High-level wrapper:\n",
      "   101                                                   * builds all 2^n blocks,\n",
      "   102                                                   * diagonalises each,\n",
      "   103                                                   * returns a dict {parity_tuple: array_of_eigvals}.\n",
      "   104                                               \"\"\"\n",
      "   105         1 6254168043.0    6e+09     70.4      blocks = build_all_blocks(A_all, a_coeff, n)\n",
      "   106         1 2627120625.0    3e+09     29.6      return largest_eigenvalues(blocks, N)"
     ]
    }
   ],
   "source": [
    "%lprun -f spectral_decomposition -f build_all_blocks -f assemble_block_operator spectral_decomposition(A_all, a_coeff, 3, N=10)"
   ]
  },
  {
   "cell_type": "code",
   "execution_count": 16,
   "id": "4cdec2a7",
   "metadata": {},
   "outputs": [
    {
     "name": "stdout",
     "output_type": "stream",
     "text": [
      "largest eigenvalues in the (even,even,even,even) block:\n"
     ]
    },
    {
     "data": {
      "text/plain": [
       "{(0,\n",
       "  0,\n",
       "  0): array([0.53566146, 0.0132469 , 0.01017344, 0.01017344, 0.00221207,\n",
       "        0.00202125, 0.00202125, 0.00106807, 0.00102784, 0.00102784]),\n",
       " (0,\n",
       "  0,\n",
       "  1): array([0.06410805, 0.00517812, 0.00462151, 0.00290281, 0.00135564,\n",
       "        0.00096983, 0.00093513, 0.00071522, 0.00070419, 0.00046115]),\n",
       " (0,\n",
       "  1,\n",
       "  0): array([0.06410805, 0.00517812, 0.00462151, 0.00290281, 0.00135564,\n",
       "        0.00096983, 0.00093513, 0.00071522, 0.00070419, 0.00046115]),\n",
       " (0,\n",
       "  1,\n",
       "  1): array([0.01646322, 0.00268574, 0.00184839, 0.00158865, 0.00071244,\n",
       "        0.00066984, 0.0005309 , 0.00051754, 0.00034892, 0.00033357]),\n",
       " (1,\n",
       "  0,\n",
       "  0): array([0.06410805, 0.00517812, 0.00462151, 0.00290281, 0.00135564,\n",
       "        0.00096983, 0.00093513, 0.00071522, 0.00070419, 0.00046115]),\n",
       " (1,\n",
       "  0,\n",
       "  1): array([0.01646322, 0.00268574, 0.00184839, 0.00158865, 0.00071244,\n",
       "        0.00066984, 0.0005309 , 0.00051754, 0.00034892, 0.00033357]),\n",
       " (1,\n",
       "  1,\n",
       "  0): array([0.01646322, 0.00268574, 0.00184839, 0.00158865, 0.00071244,\n",
       "        0.00066984, 0.0005309 , 0.00051754, 0.00034892, 0.00033357]),\n",
       " (1,\n",
       "  1,\n",
       "  1): array([0.00671676, 0.0012425 , 0.00108965, 0.00108965, 0.00042026,\n",
       "        0.00039839, 0.00039839, 0.00028175, 0.00026973, 0.00026973])}"
      ]
     },
     "execution_count": 16,
     "metadata": {},
     "output_type": "execute_result"
    }
   ],
   "source": [
    "eigvals_by_block = spectral_decomposition(A_all, a_coeff, 3, N=10)\n",
    "\n",
    "# examine, e.g. block (0,0,0,0) – the “all-even” sector\n",
    "print(\"largest eigenvalues in the (even,even,even,even) block:\")\n",
    "eigvals_by_block"
   ]
  }
 ],
 "metadata": {
  "kernelspec": {
   "display_name": "Python 3",
   "language": "python",
   "name": "python3"
  },
  "language_info": {
   "codemirror_mode": {
    "name": "ipython",
    "version": 3
   },
   "file_extension": ".py",
   "mimetype": "text/x-python",
   "name": "python",
   "nbconvert_exporter": "python",
   "pygments_lexer": "ipython3",
   "version": "3.13.5"
  }
 },
 "nbformat": 4,
 "nbformat_minor": 5
}
