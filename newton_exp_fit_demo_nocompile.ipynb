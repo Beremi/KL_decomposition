{
 "cells": [
  {
   "cell_type": "markdown",
   "metadata": {},
   "source": [
    "# Newton line search on exponential fit (no JIT)"
   ]
  },
  {
   "cell_type": "code",
   "execution_count": null,
   "metadata": {},
   "outputs": [],
   "source": [
    "import sys\n",
    "from pathlib import Path\n",
    "sys.path.insert(0, str(Path('..') / 'src'))\n",
    "from kl_decomposition import rectangle_rule, fit_exp_sum, newton_with_line_search\n",
    "from kl_decomposition.kernel_fit import _prepare_numpy_funcs\n",
    "import numpy as np"
   ]
  },
  {
   "cell_type": "code",
   "execution_count": null,
   "metadata": {},
   "outputs": [],
   "source": [
    "b_ls = np.array([0.5, 1])\n",
    "N_max = 5\n",
    "\n",
    "x, w = rectangle_rule(0.0, 2.0, 1000)\n",
    "func = lambda t: np.exp(-t)\n",
    "\n",
    "for N in range(3, N_max + 1):\n",
    "    print(f'Fitting with N={N}')\n",
    "    if len(b_ls) == 1:\n",
    "        init_means = np.hstack([b_ls, b_ls[-1]**2])\n",
    "    else:\n",
    "        init_means = np.hstack([b_ls, b_ls[-1]**2 / b_ls[-2]])\n",
    "    init_sigmas = np.ones((N,))\n",
    "    a_ls, b_ls, info = fit_exp_sum(N, x, w, func, method='de_ls', compiled=False, \n",
    "                                   max_gen=100, pop_size=20, de_mean=init_means, de_sigma=init_sigmas)\n",
    "    print('initial a:', a_ls)\n",
    "    print('initial b:', b_ls)"
   ]
  },
  {
   "cell_type": "code",
   "execution_count": null,
   "metadata": {},
   "outputs": [],
   "source": [
    "target = func(x)\n",
    "obj, grad, hess = _prepare_numpy_funcs(x, target, w, N, newton=True)\n",
    "params0 = np.concatenate([a_ls, np.log(b_ls)])\n",
    "params_opt, stats = newton_with_line_search(params0, obj, grad, hess, max_iter=100, compiled=False)\n",
    "print('refined a:', np.exp(params_opt[:N]))\n",
    "print('refined b:', np.exp(params_opt[N:]))\n",
    "print('Newton iterations:', stats.iterations)"
   ]
  },
  {
   "cell_type": "code",
   "execution_count": null,
   "id": "8490d56c",
   "metadata": {},
   "outputs": [],
   "source": [
    "import matplotlib.pyplot as plt\n",
    "\n",
    "# Compute the hessian and gradient at params_opt\n",
    "hess_opt = hess(params_opt)\n",
    "grad_opt = grad(params_opt)\n",
    "# Compute the Newton step direction\n",
    "direction = -np.linalg.solve(hess_opt, grad_opt)\n",
    "\n",
    "# Evaluate obj along the line: params0 + alpha * direction\n",
    "alphas = np.linspace(-1, 2, 100)\n",
    "obj_values = [obj(params0 + alpha * direction) for alpha in alphas]\n",
    "\n",
    "plt.plot(alphas, obj_values)\n",
    "plt.xlabel('alpha')\n",
    "plt.ylabel('Objective function')\n",
    "plt.title('Objective function along Newton step direction')\n",
    "plt.grid(True)\n",
    "plt.yscale('log')\n",
    "plt.show()"
   ]
  }
 ],
 "metadata": {
  "kernelspec": {
   "display_name": "Python 3",
   "language": "python",
   "name": "python3"
  },
  "language_info": {
   "codemirror_mode": {
    "name": "ipython",
    "version": 3
   },
   "file_extension": ".py",
   "mimetype": "text/x-python",
   "name": "python",
   "nbconvert_exporter": "python",
   "pygments_lexer": "ipython3",
   "version": "3.13.3"
  }
 },
 "nbformat": 4,
 "nbformat_minor": 5
}
