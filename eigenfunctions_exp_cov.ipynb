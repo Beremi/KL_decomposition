{
 "cells": [
  {
   "cell_type": "markdown",
   "id": "99fc6dd0",
   "metadata": {},
   "source": [
    "# Eigenfunctions of a 2-D exponential covariance"
   ]
  },
  {
   "cell_type": "code",
   "execution_count": null,
   "id": "5a27beaa",
   "metadata": {
    "execution": {
     "iopub.execute_input": "2025-06-05T16:13:57.488805Z",
     "iopub.status.busy": "2025-06-05T16:13:57.488599Z",
     "iopub.status.idle": "2025-06-05T16:13:58.618331Z",
     "shell.execute_reply": "2025-06-05T16:13:58.617559Z"
    }
   },
   "outputs": [],
   "source": [
    "import numpy as np\n",
    "import matplotlib.pyplot as plt\n",
    "\n",
    "from kl_decomposition import orthopoly"
   ]
  },
  {
   "cell_type": "code",
   "execution_count": null,
   "id": "8d2c3d77",
   "metadata": {
    "execution": {
     "iopub.execute_input": "2025-06-05T16:13:58.652666Z",
     "iopub.status.busy": "2025-06-05T16:13:58.648394Z",
     "iopub.status.idle": "2025-06-05T16:13:58.823296Z",
     "shell.execute_reply": "2025-06-05T16:13:58.822431Z"
    }
   },
   "outputs": [],
   "source": [
    "# Fit exp(-d) on [0, sqrt(2)] with 4 exponential terms\n",
    "x, w = orthopoly.rectangle_rule(0.0, np.sqrt(2.0), 200)\n",
    "a, b, _ = orthopoly.fit_exp_sum(4, x, w, lambda d: np.exp(-d), method='de_ls', max_gen=50, pop_size=30)\n",
    "print('coeff a:', a)\n",
    "print('coeff b:', b)"
   ]
  },
  {
   "cell_type": "code",
   "execution_count": null,
   "id": "f859ce29",
   "metadata": {
    "execution": {
     "iopub.execute_input": "2025-06-05T16:13:58.831418Z",
     "iopub.status.busy": "2025-06-05T16:13:58.830715Z",
     "iopub.status.idle": "2025-06-05T16:13:58.842013Z",
     "shell.execute_reply": "2025-06-05T16:13:58.841380Z"
    }
   },
   "outputs": [],
   "source": [
    "# Assemble 2-D covariance matrix using 6 Legendre polynomials per dimension\n",
    "n_leg = 6\n",
    "blocks = [assemble_block((0.0, 1.0), coeff, n_leg) for coeff in b]\n",
    "A2D = sum(ai * np.kron(B, B) for ai, B in zip(a, blocks))"
   ]
  },
  {
   "cell_type": "code",
   "execution_count": null,
   "id": "4ec37cc9",
   "metadata": {
    "execution": {
     "iopub.execute_input": "2025-06-05T16:13:58.844205Z",
     "iopub.status.busy": "2025-06-05T16:13:58.843644Z",
     "iopub.status.idle": "2025-06-05T16:13:58.847775Z",
     "shell.execute_reply": "2025-06-05T16:13:58.847220Z"
    }
   },
   "outputs": [],
   "source": [
    "# Compute the four largest eigenpairs\n",
    "vals, vecs = np.linalg.eigh(A2D)\n",
    "idx = np.argsort(vals)[::-1]\n",
    "vals = vals[idx][:4]\n",
    "vecs = vecs[:, idx][:, :4]\n",
    "print('eigenvalues:', vals)"
   ]
  },
  {
   "cell_type": "code",
   "execution_count": null,
   "id": "f763447b",
   "metadata": {
    "execution": {
     "iopub.execute_input": "2025-06-05T16:13:58.849385Z",
     "iopub.status.busy": "2025-06-05T16:13:58.849199Z",
     "iopub.status.idle": "2025-06-05T16:13:59.390154Z",
     "shell.execute_reply": "2025-06-05T16:13:59.389473Z"
    }
   },
   "outputs": [],
   "source": [
    "# Evaluate eigenfunctions on a grid and plot\n",
    "xs = np.linspace(0.0, 1.0, 50)\n",
    "phi = np.array([_legendre_phi(i, xs, 0.0, 1.0) for i in range(n_leg)])\n",
    "for k in range(4):\n",
    "    coeffs = vecs[:, k].reshape(n_leg, n_leg)\n",
    "    vals_xy = np.zeros((len(xs), len(xs)))\n",
    "    for i in range(n_leg):\n",
    "        for j in range(n_leg):\n",
    "            vals_xy += coeffs[i, j] * np.outer(phi[i], phi[j])\n",
    "    plt.figure(figsize=(4, 3))\n",
    "    plt.imshow(vals_xy, extent=[0,1,0,1], origin='lower')\n",
    "    plt.title(f'eigenfunction {k+1}, lambda={vals[k]:.3f}')\n",
    "    plt.colorbar()\n",
    "    plt.show()"
   ]
  }
 ],
 "metadata": {
  "kernelspec": {
   "display_name": "Python 3",
   "language": "python",
   "name": "python3"
  },
  "language_info": {
   "codemirror_mode": {
    "name": "ipython",
    "version": 3
   },
   "file_extension": ".py",
   "mimetype": "text/x-python",
   "name": "python",
   "nbconvert_exporter": "python",
   "pygments_lexer": "ipython3",
   "version": "3.13.3"
  }
 },
 "nbformat": 4,
 "nbformat_minor": 5
}
